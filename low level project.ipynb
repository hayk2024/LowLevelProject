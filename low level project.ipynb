{
 "cells": [
  {
   "cell_type": "markdown",
   "id": "e62f6488-7528-4ba6-8a06-9043e3c3ab4d",
   "metadata": {},
   "source": [
    "1․ Գրել հետևյալ ծրագիրը․\n",
    "   - բացել jupyter notebook-ը,\n",
    "   - գեներացնել list, որը կպարունակի 1-ից 1_000_000 միջակայքում գտնվող կենտ թվերը,\n",
    "   - պահել գեներացված list-ը համապատասխան ֆորմատով համակարգչի մեջ data անունով,\n",
    "   - բացել pycharm-ը,\n",
    "   - pycharm-ում կարդալ data ֆայլը,\n",
    "   - կարդացած list-ում կթողնի միայն 3-ի բաժանվող թվերը,\n",
    "   - կտպի ստացված list-ի արժեքների միջին թվաբանականը։"
   ]
  },
  {
   "cell_type": "code",
   "execution_count": 4,
   "id": "b60cd93f-57f8-4eda-9bd0-1d915ba3a274",
   "metadata": {},
   "outputs": [],
   "source": [
    "import json\n",
    "\n",
    "my_list = [i for i in range(1, 1_000_001)]\n",
    "\n",
    "with open('data.json', 'w') as f:\n",
    "    json.dump(my_list, f)\n",
    "\n"
   ]
  },
  {
   "cell_type": "markdown",
   "id": "18c714b8-1365-48a4-b955-3f765d31bc1e",
   "metadata": {},
   "source": [
    "2․ Գրել ծրագիր, որը․\n",
    "   - հետևյալ dict_1-ից կստանա նոր dict_2 այնպես, որ dict_2-ի key-երը լինեն dict_1-ի value-ները, \n",
    "     իսկ value-ները՝ dict_1-ի value-ների երկարությունները,\n",
    "   օրինակ՝ dict_1 = {1: 'red', 2: 'green', 3: 'black', 4: 'white', 5: 'black'},\n",
    "   պետք է ստացվի՝ dict_2 = {'red': 3, 'green': 5, 'black': 5, 'white': 5}:"
   ]
  },
  {
   "cell_type": "code",
   "execution_count": 2,
   "id": "3a97320d-345b-4ee9-b6dc-296414c48ecb",
   "metadata": {},
   "outputs": [
    {
     "data": {
      "text/plain": [
       "{'red': 3, 'green': 5, 'black': 5, 'white': 5}"
      ]
     },
     "execution_count": 2,
     "metadata": {},
     "output_type": "execute_result"
    }
   ],
   "source": [
    "dict_1 = {1: 'red', 2: 'green', 3: 'black', 4: 'white', 5: 'black'}\n",
    "dict_2 = {i: len(i) for i in dict_1.values()}\n",
    "dict_2"
   ]
  },
  {
   "cell_type": "markdown",
   "id": "7487115c-cda7-4d9a-ab64-c3771c9f409a",
   "metadata": {},
   "source": [
    "3. Գրել ֆունկցիա, որը․\n",
    "   - կֆիլտրի տրված dictionary-ի value-ները, թողնելով միայն կենտ թվերը,\n",
    "   - կվերադարձնի ստացված dictionary-ն,\n",
    "   օրինակ՝ {'a': [1, 8, 3, 7, 2], 'b': [12, 4, 8, 4], 'c': [9, 9, 2, 8, 5]},\n",
    "   պետք է ստացվի՝ {'a': [1, 3, 7], 'b': [], 'c': [9, 9, 5]}:"
   ]
  },
  {
   "cell_type": "code",
   "execution_count": 10,
   "id": "a2ac3730-f444-47fd-a4d1-6fa5871875b9",
   "metadata": {},
   "outputs": [
    {
     "data": {
      "text/plain": [
       "{'a': [1, 3, 7], 'b': [], 'c': [9, 9, 5]}"
      ]
     },
     "execution_count": 10,
     "metadata": {},
     "output_type": "execute_result"
    }
   ],
   "source": [
    "dict_1 = {'a': [1, 8, 3, 7, 2], 'b': [12, 4, 8, 4], 'c': [9, 9, 2, 8, 5]}\n",
    "\n",
    "\n",
    "def func(d):\n",
    "    dict_2 = d.copy()\n",
    "    for m in dict_2:\n",
    "        dict_2[m] = []\n",
    "    \n",
    "        \n",
    "    for i,j in d.items():\n",
    "        l = []\n",
    "        for k in j:\n",
    "            if k%2 != 0:\n",
    "                l.append(k)\n",
    "        dict_2[i] = l\n",
    "            \n",
    "    return dict_2\n",
    "\n",
    "func(dict_1)"
   ]
  },
  {
   "cell_type": "code",
   "execution_count": null,
   "id": "25493914-f37c-4b31-9a6e-523b08dcd831",
   "metadata": {},
   "outputs": [],
   "source": []
  }
 ],
 "metadata": {
  "kernelspec": {
   "display_name": "Python 3 (ipykernel)",
   "language": "python",
   "name": "python3"
  },
  "language_info": {
   "codemirror_mode": {
    "name": "ipython",
    "version": 3
   },
   "file_extension": ".py",
   "mimetype": "text/x-python",
   "name": "python",
   "nbconvert_exporter": "python",
   "pygments_lexer": "ipython3",
   "version": "3.12.5"
  }
 },
 "nbformat": 4,
 "nbformat_minor": 5
}
